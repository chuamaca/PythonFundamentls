{
  "cells": [
    {
      "cell_type": "markdown",
      "metadata": {
        "id": "e3Hq42NJorQY"
      },
      "source": [
        "**¿Que es Python?**\n",
        "Es un lenguaje de programación de alto nivel y multiproposito\n",
        "\n",
        "**Caracteristicas**\n",
        "\n",
        "\n",
        "*   Sintaxis legible\n",
        "*   De facil aprendizaje\n",
        "*   Portabilidad (multiplataforma)\n",
        "\n",
        "\n",
        "\n"
      ]
    },
    {
      "cell_type": "code",
      "execution_count": 1,
      "metadata": {
        "colab": {
          "base_uri": "https://localhost:8080/"
        },
        "id": "8Z5U-_F8okZy",
        "outputId": "8b928866-c767-4f04-a09f-b8556efb234d"
      },
      "outputs": [
        {
          "name": "stdout",
          "output_type": "stream",
          "text": [
            "Hola Mundo\n"
          ]
        }
      ],
      "source": [
        "print(\"Hola Mundo\")"
      ]
    },
    {
      "cell_type": "markdown",
      "metadata": {
        "id": "XVoHfstNrz6i"
      },
      "source": [
        "**Sintaxis de Python**\n",
        "Es sencilla de facil de aprender"
      ]
    },
    {
      "cell_type": "code",
      "execution_count": 2,
      "metadata": {
        "id": "j4dc1_bfsivW"
      },
      "outputs": [],
      "source": [
        "#Declaracion de variables\n",
        "nombre = \"David Lizarraga\"\n",
        "edad = 37\n",
        "#Tipos de datos\n",
        "cadena = \"Esta es una cadena de texto\"  #str\n",
        "cadena_multilinea = \"\"\"En python podemos representar\n",
        "                    una cadena con muchas lineas.\n",
        "                    Este es un ejemplo de una cadena multilinea\"\"\"#str\n",
        "entero = 20                             #int\n",
        "flotante = 3.1416                       #float\n",
        "booleano = True                         #bool"
      ]
    },
    {
      "cell_type": "code",
      "execution_count": 3,
      "metadata": {
        "id": "LQsQlf3ztgY8"
      },
      "outputs": [
        {
          "name": "stdout",
          "output_type": "stream",
          "text": [
            "eres menor de edad\n"
          ]
        }
      ],
      "source": [
        "#Sangría\n",
        "'''\n",
        "La sangría se refiere a los espacios en blanco al principio de una linea de código.\n",
        "Python utiliza la sangría para indicar un bloque de codigo.\n",
        "A continuacion un ejemplo\n",
        "'''\n",
        "edad = 18\n",
        "if edad > 18:\n",
        "  print(\"eres mayor de edad\")\n",
        "else:\n",
        "  print(\"eres menor de edad\")\n"
      ]
    },
    {
      "cell_type": "code",
      "execution_count": 4,
      "metadata": {
        "id": "YT13xjkVvYOA"
      },
      "outputs": [
        {
          "ename": "IndentationError",
          "evalue": "expected an indented block after 'if' statement on line 3 (1126750157.py, line 4)",
          "output_type": "error",
          "traceback": [
            "\u001b[1;36m  Cell \u001b[1;32mIn[4], line 4\u001b[1;36m\u001b[0m\n\u001b[1;33m    print(\"eres mayor de edad\")\u001b[0m\n\u001b[1;37m    ^\u001b[0m\n\u001b[1;31mIndentationError\u001b[0m\u001b[1;31m:\u001b[0m expected an indented block after 'if' statement on line 3\n"
          ]
        }
      ],
      "source": [
        "#a continuacion ejemplos de error de sintaxis por sangria\n",
        "edad = 18\n",
        "if edad == 18:\n",
        "print(\"eres mayor de edad\")"
      ]
    },
    {
      "cell_type": "code",
      "execution_count": null,
      "metadata": {
        "id": "-xQGP6GKwBGB"
      },
      "outputs": [],
      "source": [
        "print(\"Hola mundo\")\n",
        " print(\"Acabo de cometer un error de sintaxis\")"
      ]
    },
    {
      "cell_type": "markdown",
      "metadata": {
        "id": "A-9qEwJoxUCp"
      },
      "source": [
        "**Operadores básicos**\n",
        "Python utiliza los operadores para realizar operaciones aritméticas, Asignación, comparación, lógicas\n"
      ]
    },
    {
      "cell_type": "code",
      "execution_count": null,
      "metadata": {
        "id": "QnlqqAAPyFys"
      },
      "outputs": [],
      "source": [
        "#Operadores de asignacion\n",
        "x = 1 #asignamos el valor 1 a la variable x\n",
        "print(x)\n",
        "x += 1 #Asignamos y sumamos a la misma vez. En este caso el nuevo valor de la variable x es 2\n",
        "print(x)\n",
        "x -= 1 #Asignamos y restamos a la misma vez. En este caso el nuevo valor de la variable x es 1\n",
        "print(x)\n",
        "#se puede usar tambien\n",
        "# *= asignacion con multiplicacion\n",
        "# /= asigancion con division"
      ]
    },
    {
      "cell_type": "code",
      "execution_count": null,
      "metadata": {
        "id": "8cZCB5MV0E4Y"
      },
      "outputs": [],
      "source": [
        "#Operadores aritméticos\n",
        "x = 4 + 5 # suma\n",
        "print(x)\n",
        "x = 5 - 4 # resta\n",
        "print(x)\n",
        "x = 5 * 4 # multiplicación\n",
        "print(x)\n",
        "x = 8 / 2 # División\n",
        "print(x)\n",
        "x = 2 ** 3\n",
        "print(x)"
      ]
    },
    {
      "cell_type": "code",
      "execution_count": null,
      "metadata": {
        "id": "ZuEnTS801nX4"
      },
      "outputs": [],
      "source": [
        "#Operadores lógicos (and, or, not)\n",
        "\n",
        "#AND\n",
        "# True and True = True\n",
        "# True and False = False\n",
        "# False and False = False\n",
        "verdadero = True\n",
        "falso = False\n",
        "print(verdadero and verdadero) #resultado sera verdadero\n",
        "print(verdadero and falso) #resultado sera falso\n",
        "#aqui un ejemplo\n",
        "x=5\n",
        "print(x > 3 and x < 10) #resultado es True\n",
        "\n"
      ]
    },
    {
      "cell_type": "code",
      "execution_count": null,
      "metadata": {
        "id": "xLz-be9D1_nM"
      },
      "outputs": [],
      "source": [
        "#OR\n",
        " #AND\n",
        "# True and True = True\n",
        "# True and False = True\n",
        "# False and False = False\n",
        "tiene_ticket_invitacion = True\n",
        "ha_pagado_entrada = False\n",
        "# Verificación de la entrada al museo\n",
        "puede_entrar = tiene_ticket_invitacion or ha_pagado_entrada\n",
        "print(puede_entrar)"
      ]
    },
    {
      "cell_type": "code",
      "execution_count": null,
      "metadata": {
        "id": "E7I04UVy27VZ"
      },
      "outputs": [],
      "source": [
        "#NOT\n",
        "verdadero = True\n",
        "falso = False\n",
        "resultado_negacion_verdadero = not verdadero\n",
        "resultado_negacion_falso = not falso\n",
        "print(resultado_negacion_verdadero)  # Salida: False\n",
        "print(resultado_negacion_falso)     # Salida: True"
      ]
    },
    {
      "cell_type": "markdown",
      "metadata": {
        "id": "nbVUKiwbADfd"
      },
      "source": [
        "**Condicionales**\n",
        "Son estruturas de codigo que se usan para ejecutar un bloque de codigo en base de condiciones especificas\n"
      ]
    },
    {
      "cell_type": "code",
      "execution_count": null,
      "metadata": {
        "id": "j9IlJbLOASUA"
      },
      "outputs": [],
      "source": [
        "#Este bloque de codigo tiene un error.\n",
        "#detectemos el error\n",
        "if edad >= 18:\n",
        "    print(\"Eres mayor de edad\")\n",
        "else:\n",
        "    print(\"Eres menor de edad\")\n",
        "\n"
      ]
    },
    {
      "cell_type": "code",
      "execution_count": null,
      "metadata": {
        "id": "W-qJqaiNAbfA"
      },
      "outputs": [],
      "source": [
        "edad = 20\n",
        "if edad < 18:\n",
        "    print(\"Eres menor de edad\")\n",
        "elif edad>= 18 and edad < 65:\n",
        "    print(\"Eres mayor de edad\")\n",
        "else:\n",
        "    print(\"Eres mayor de edad con mucha experiencia en la vida\")"
      ]
    },
    {
      "cell_type": "code",
      "execution_count": null,
      "metadata": {
        "id": "MRV5ucOuAZrK"
      },
      "outputs": [],
      "source": [
        "# Operador ternario\n",
        "mensaje = \"Eres mayor de edad\" if edad >= 18 else \"Eres menor de edad\"\n",
        "print(mensaje)"
      ]
    },
    {
      "cell_type": "markdown",
      "metadata": {
        "id": "qteBf28Fs-qh"
      },
      "source": [
        "**Primer reto**\n",
        " El reto es programar una calculadora de masa corporal (IMC) se usará la siguiente fórmula: imc = peso / (altura * 2)\n",
        " Utiliza una declaración condicional (if, elif, else) para determinar la categoría del IMC según la siguiente tabla:\n",
        "* IMC < 18.5: \"Bajo peso\"\n",
        "* 18.5 <= IMC < 24.9: \"Peso normal\"\n",
        "* 25 <= IMC < 29.9: \"Sobrepeso\"\n",
        "* IMC >= 30: \"Obesidad\"\n",
        "por último mostrar el resultado en el terminal"
      ]
    },
    {
      "cell_type": "code",
      "execution_count": null,
      "metadata": {
        "id": "r4ukKqFsu5Wz"
      },
      "outputs": [],
      "source": [
        "#aqui realizaremos el reto"
      ]
    },
    {
      "cell_type": "markdown",
      "metadata": {
        "id": "F7XTXI23BLpy"
      },
      "source": [
        "**Estructuras de datos**\n",
        "Python proporciona varias estructuras de datos incorporadas que facilitan la organización y manipulación de datos. Algunas de las estructuras de datos más comunes en Python son:\n"
      ]
    },
    {
      "cell_type": "code",
      "execution_count": null,
      "metadata": {
        "id": "cGVLIvOqW0-Z"
      },
      "outputs": [],
      "source": [
        "#Listas\n",
        "#Es una coleccion ordenada y mutable de elementos\n",
        "mi_lista = [1, 2, 3, 'texto']\n",
        "print(mi_lista)\n",
        "#agrego un elemento en la lista\n",
        "mi_lista.append(\"otro elemento\")\n",
        "print(mi_lista)\n",
        "#Elimino un elemento en la lista\n",
        "mi_lista.remove(1)\n",
        "print(mi_lista)\n",
        "#modifico un elemento en la lista\n",
        "mi_lista[0] = \"Cambio el valor\"\n",
        "print(mi_lista)\n",
        "#buscar elemento en una lista\n",
        "print('texto' in mi_lista)\n"
      ]
    },
    {
      "cell_type": "code",
      "execution_count": null,
      "metadata": {
        "id": "GyHT7NtbYpfP"
      },
      "outputs": [],
      "source": [
        "#Tupla\n",
        "#Es una coleccion ordenada e inmutable de elementos\n",
        "mi_tupla = (1, 2, 3, 'texto')\n",
        "#mi_tupla.remove(1)\n",
        "#mi_tupla.append(\"Nuevo elemento\")"
      ]
    },
    {
      "cell_type": "code",
      "execution_count": null,
      "metadata": {
        "id": "pKEaLQLcZfQr"
      },
      "outputs": [],
      "source": [
        "#Conjuntos\n",
        "#Coleccion no ordenada (no tiene un índice) de elementos unicos\n",
        "\n",
        "# Crear un conjunto vacío\n",
        "conjunto_vacio = set()\n",
        "\n",
        "# Crear un conjunto con elementos\n",
        "mi_conjunto = {1, 2, 3, 4, 5}\n",
        "\n",
        "# También se pueden crear conjuntos a partir de listas\n",
        "lista = [2, 3, 4, 5, 6]\n",
        "conjunto_desde_lista = set(lista)\n",
        "\n",
        "# Conjunto con elementos de diferentes tipos\n",
        "conjunto_mezclado = {1, 'dos', 3.0, (4, 5)}\n",
        "\n",
        "# Añadir un elemento al conjunto\n",
        "mi_conjunto.add(6)\n",
        "\n",
        "# Eliminar un elemento del conjunto\n",
        "mi_conjunto.remove(3)\n",
        "\n",
        "# Verificar si un elemento está en el conjunto\n",
        "print(2 in mi_conjunto)  # True\n",
        "print(7 in mi_conjunto)  # False\n",
        "\n",
        "# Longitud del conjunto\n",
        "longitud = len(mi_conjunto)"
      ]
    },
    {
      "cell_type": "code",
      "execution_count": null,
      "metadata": {
        "id": "SZCm9x5QdeDi"
      },
      "outputs": [],
      "source": [
        "#Diccionarios\n",
        "#Los diccionarios en Python son estructuras de datos que almacenan pares clave-valor, donde cada clave debe ser única.\n",
        "# Crear un diccionario vacío\n",
        "mi_diccionario = {}\n",
        "\n",
        "# Crear un diccionario con elementos\n",
        "diccionario = {'clave1': 'valor1', 'clave2': 'valor2', 'clave3': 'valor3'}\n",
        "\n",
        "# También se pueden crear diccionarios usando la función dict()\n",
        "otro_diccionario = dict(clave1='valor1', clave2='valor2')\n",
        "\n",
        "# Acceder al valor de una clave\n",
        "valor = diccionario['clave1']\n",
        "\n",
        "# Modificar el valor asociado a una clave\n",
        "diccionario['clave1'] = 'nuevo_valor'\n",
        "\n",
        "# Verificar si una clave está presente en el diccionario\n",
        "print('clave1' in diccionario)  # True\n",
        "\n",
        "# Eliminar una clave y su valor\n",
        "del diccionario['clave1']\n"
      ]
    },
    {
      "cell_type": "code",
      "execution_count": null,
      "metadata": {
        "colab": {
          "base_uri": "https://localhost:8080/"
        },
        "id": "NYgPr0T9hjvf",
        "outputId": "282aa2fb-b65d-4fba-ac1c-64f1b55f8bff"
      },
      "outputs": [
        {
          "name": "stdout",
          "output_type": "stream",
          "text": [
            "[{'clave1': 'valor1', 'clave2': 'valor2', 'clave3': 'valor3'}, {'clave1': 'value1', 'clave2': 'value2', 'clave3': 'value3'}]\n"
          ]
        }
      ],
      "source": [
        "#Listas de diccionarios\n",
        "#Esto se usa de manera muy recurrecte en Odoo\n",
        "dict_list = []\n",
        "diccionario = {'clave1': 'valor1', 'clave2': 'valor2', 'clave3': 'valor3'}\n",
        "dict_list.append(diccionario)\n",
        "diccionario = {'clave1': 'value1', 'clave2': 'value2', 'clave3': 'value3'}\n",
        "dict_list.append(diccionario)\n",
        "print(str(dict_list))\n"
      ]
    },
    {
      "cell_type": "markdown",
      "metadata": {
        "id": "zt-rYiZljEwS"
      },
      "source": [
        "**Bucles**\n",
        "En Python, puedes utilizar diferentes tipos de bucles, como el bucle for y el bucle while, para iterar sobre secuencias de datos o ejecutar un bloque de código mientras se cumple una condición."
      ]
    },
    {
      "cell_type": "code",
      "execution_count": null,
      "metadata": {
        "colab": {
          "base_uri": "https://localhost:8080/"
        },
        "id": "mhDth_4_jzqM",
        "outputId": "55fbd410-7d5c-4b84-ff1c-3d88e3ceac7d"
      },
      "outputs": [
        {
          "name": "stdout",
          "output_type": "stream",
          "text": [
            "1\n",
            "2\n",
            "Hola\n",
            "4\n",
            "5\n"
          ]
        }
      ],
      "source": [
        "mi_lista = [1, 2, \"Hola\", 4, 5]\n",
        "\n",
        "for elemento in mi_lista:\n",
        "    print(elemento)"
      ]
    },
    {
      "cell_type": "code",
      "execution_count": null,
      "metadata": {
        "colab": {
          "base_uri": "https://localhost:8080/"
        },
        "id": "J2enSe43ka03",
        "outputId": "dea2f8c2-4923-4f62-aea8-e7bd5b5bbc8f"
      },
      "outputs": [
        {
          "name": "stdout",
          "output_type": "stream",
          "text": [
            "0\n",
            "1\n",
            "2\n",
            "3\n",
            "4\n"
          ]
        }
      ],
      "source": [
        "# for con 5 iteraciones\n",
        "\n",
        "for i in range(5):\n",
        "    print(i)\n"
      ]
    },
    {
      "cell_type": "code",
      "execution_count": null,
      "metadata": {
        "colab": {
          "base_uri": "https://localhost:8080/"
        },
        "id": "yxmliBtNkB9t",
        "outputId": "32ee5f8b-8702-4e81-dc74-9d4920beb818"
      },
      "outputs": [
        {
          "name": "stdout",
          "output_type": "stream",
          "text": [
            "iteracion:  0\n",
            "iteracion:  1\n",
            "iteracion:  2\n",
            "iteracion:  3\n",
            "iteracion:  4\n",
            "iteracion:  5\n"
          ]
        }
      ],
      "source": [
        "limit = 5\n",
        "counter = 0\n",
        "while counter <= limit:\n",
        "  print(\"iteracion: \", counter)\n",
        "  counter += 1"
      ]
    },
    {
      "cell_type": "markdown",
      "metadata": {
        "id": "ybY5zGJ1xeQU"
      },
      "source": [
        "**Segundo reto**\n",
        "Usa el bucle for para obtener la cantidad de numero pares de la siguiente lista [2,1,5,3,9,10,17,22].\n",
        "* nota: para determinar si un numero es par, puede utilizar el operador % (módulo)\n",
        "\n",
        "\n"
      ]
    },
    {
      "cell_type": "code",
      "execution_count": null,
      "metadata": {
        "id": "O1tM1bFwxswN"
      },
      "outputs": [],
      "source": [
        "#aqui desarrolla el reto"
      ]
    },
    {
      "cell_type": "markdown",
      "metadata": {
        "id": "Is7d0s3DoHrd"
      },
      "source": [
        "**Cadenas de texto**"
      ]
    },
    {
      "cell_type": "code",
      "execution_count": null,
      "metadata": {
        "colab": {
          "base_uri": "https://localhost:8080/"
        },
        "id": "3O6LZ4xAn9hx",
        "outputId": "8cde7f53-dc20-441a-b3d9-3dc2f349edd9"
      },
      "outputs": [
        {
          "name": "stdout",
          "output_type": "stream",
          "text": [
            "Hola mundo\n"
          ]
        }
      ],
      "source": [
        "cadena1 = \"Hola\"\n",
        "cadena2 = \"mundo\"\n",
        "\n",
        "concatenacion = cadena1 + \" \" + cadena2\n",
        "print(concatenacion)\n",
        "# Salida: \"Hola mundo\"\n"
      ]
    },
    {
      "cell_type": "code",
      "execution_count": null,
      "metadata": {
        "id": "o78szSG7ojgI"
      },
      "outputs": [],
      "source": [
        "palabra = \"Python\"\n",
        "\n",
        "primer_caracter = palabra[0]\n",
        "ultimo_caracter = palabra[-1]\n",
        "\n",
        "print(\"Primer caracter:\", primer_caracter)\n",
        "print(\"Último caracter:\", ultimo_caracter)\n",
        "# Salida:\n",
        "# Primer caracter: P\n",
        "# Último caracter: n"
      ]
    },
    {
      "cell_type": "code",
      "execution_count": null,
      "metadata": {
        "id": "TLoGjI_loww2"
      },
      "outputs": [],
      "source": [
        "frase = \"Hola Mundo\"\n",
        "\n",
        "en_mayusculas = frase.upper()\n",
        "en_minusculas = frase.lower()\n",
        "\n",
        "print(\"Mayúsculas:\", en_mayusculas)\n",
        "print(\"Minúsculas:\", en_minusculas)\n",
        "# Salida:\n",
        "# Mayúsculas: HOLA MUNDO\n",
        "# Minúsculas: hola mundo"
      ]
    },
    {
      "cell_type": "code",
      "execution_count": null,
      "metadata": {
        "colab": {
          "base_uri": "https://localhost:8080/"
        },
        "id": "BE9N1hYmo6nH",
        "outputId": "01bfcb57-3e5e-4a6a-be24-63d8dce04de0"
      },
      "outputs": [
        {
          "name": "stdout",
          "output_type": "stream",
          "text": [
            "Python es divertido\n",
            "Python es increíble\n"
          ]
        }
      ],
      "source": [
        "mensaje = \"Python es divertido\"\n",
        "print(mensaje)\n",
        "nuevo_mensaje = mensaje.replace(\"divertido\", \"increíble\")\n",
        "\n",
        "print(nuevo_mensaje)\n",
        "# Salida: \"Python es increíble\""
      ]
    },
    {
      "cell_type": "code",
      "execution_count": null,
      "metadata": {
        "colab": {
          "base_uri": "https://localhost:8080/"
        },
        "id": "__G23EjapN-L",
        "outputId": "792a3403-0e35-4bb3-ac85-df11c6d014b7"
      },
      "outputs": [
        {
          "name": "stdout",
          "output_type": "stream",
          "text": [
            "['Python', 'es', 'un', 'lenguaje', 'de', 'programación']\n"
          ]
        }
      ],
      "source": [
        "texto = \"Python es un lenguaje de programación\"\n",
        "\n",
        "palabras = texto.split()\n",
        "\n",
        "print(palabras)\n",
        "# Salida: ['Python', 'es', 'un', 'lenguaje', 'de', 'programación']"
      ]
    },
    {
      "cell_type": "markdown",
      "metadata": {
        "id": "w8mdNbvFpe2R"
      },
      "source": [
        "**Funciones**\n",
        " Las funciones en Python son bloques de código que realizan una tarea específica y pueden ser reutilizadas en diferentes partes de tu programa"
      ]
    },
    {
      "cell_type": "code",
      "execution_count": null,
      "metadata": {
        "id": "J49a8IhCpvPC"
      },
      "outputs": [],
      "source": [
        "def saludar():\n",
        "    print(\"¡Hola! Bienvenido a Python.\")\n",
        "\n",
        "# Llamada a la función\n",
        "saludar()\n"
      ]
    },
    {
      "cell_type": "code",
      "execution_count": null,
      "metadata": {
        "colab": {
          "base_uri": "https://localhost:8080/"
        },
        "id": "TO6jBYsCpzdT",
        "outputId": "f7af9bb8-2415-48de-fb64-7715b805d0d2"
      },
      "outputs": [
        {
          "name": "stdout",
          "output_type": "stream",
          "text": [
            "¡Hola David! Bienvenido a Python.\n"
          ]
        }
      ],
      "source": [
        "#ademas de la funcion, aqui aprenderemos el uso del operador % en las cadenas\n",
        "def saludar_con_nombre(nombre):\n",
        "    print(\"¡Hola %s! Bienvenido a Python.\" %nombre)\n",
        "\n",
        "# Llamada a la función con un argumento\n",
        "saludar_con_nombre(\"David\")"
      ]
    },
    {
      "cell_type": "code",
      "execution_count": null,
      "metadata": {
        "colab": {
          "base_uri": "https://localhost:8080/"
        },
        "id": "UzT2u8-Zp-C-",
        "outputId": "f4778bdd-81dc-4443-bdac-4e6bc8896dd8"
      },
      "outputs": [
        {
          "name": "stdout",
          "output_type": "stream",
          "text": [
            "14\n"
          ]
        }
      ],
      "source": [
        "def sumar_2_numeros(num1,num2):\n",
        "  print(num1 + num2)\n",
        "# Llamada a la función\n",
        "sumar_2_numeros(5,9)"
      ]
    },
    {
      "cell_type": "markdown",
      "metadata": {
        "id": "piUovxVV1ilT"
      },
      "source": [
        "**Tercer reto**\n",
        "Crea una función llamada contar_vocales que tome una palabra como parámetro y devuelva un diccionario con la cuenta de cada vocal (a, e, i, o, u) en la palabra."
      ]
    },
    {
      "cell_type": "code",
      "execution_count": null,
      "metadata": {
        "id": "yekBd4TH1xHv"
      },
      "outputs": [],
      "source": []
    },
    {
      "cell_type": "markdown",
      "metadata": {
        "id": "SD8b4kEV26ov"
      },
      "source": [
        "**Uso de librerias**\n",
        "\n",
        "Python tiene una amplia variedad de librerías o blibliotecas (también conocidas como módulos) que abarcan una variedad de dominios. En este caso haremos uso de la libreria datetime ya que está se usa de manera recurrente en Odoo"
      ]
    },
    {
      "cell_type": "code",
      "execution_count": null,
      "metadata": {
        "id": "tVeq6ogH4-8T"
      },
      "outputs": [],
      "source": [
        "from datetime import date\n",
        "\n",
        "# Ejemplo 1: Trabajando con la clase date\n",
        "hoy = date.today()\n",
        "print(\"Fecha de hoy:\", hoy)"
      ]
    },
    {
      "cell_type": "code",
      "execution_count": null,
      "metadata": {
        "id": "oO7PQh1065xB"
      },
      "outputs": [],
      "source": [
        "from datetime import datetime\n",
        "# Ejemplo 2: Trabajando con la clase datetime\n",
        "ahora = datetime.now()\n",
        "print(\"Fecha y hora actual:\", ahora)"
      ]
    },
    {
      "cell_type": "code",
      "execution_count": null,
      "metadata": {
        "id": "NzRfsL1C69dk"
      },
      "outputs": [],
      "source": [
        "from datetime import datetime\n",
        "# Ejemplo 3: Creando una fecha específica con datetime\n",
        "fecha_especifica = datetime(2023, 5, 15, 10, 30, 0)\n",
        "print(\"Fecha y hora específica:\", fecha_especifica)"
      ]
    },
    {
      "cell_type": "code",
      "execution_count": null,
      "metadata": {
        "colab": {
          "base_uri": "https://localhost:8080/"
        },
        "id": "xhLYdABS7CLl",
        "outputId": "f7224929-f1e6-4912-f23f-ac0f5184f59e"
      },
      "outputs": [
        {
          "name": "stdout",
          "output_type": "stream",
          "text": [
            "Fecha de hoy + 7 días: 2024-01-20\n"
          ]
        }
      ],
      "source": [
        "from datetime import date, timedelta\n",
        "# Ejemplo 4: Operaciones con timedelta\n",
        "hoy = date.today()\n",
        "delta_dias = timedelta(days=7)\n",
        "nueva_fecha = hoy + delta_dias\n",
        "print(f\"Fecha de hoy + 7 días: {nueva_fecha}\")"
      ]
    },
    {
      "cell_type": "code",
      "execution_count": null,
      "metadata": {
        "colab": {
          "base_uri": "https://localhost:8080/"
        },
        "id": "oMhDDklo7Gvk",
        "outputId": "6202ac13-b5f4-4500-ff60-d48c5cabe63b"
      },
      "outputs": [
        {
          "name": "stdout",
          "output_type": "stream",
          "text": [
            "Diferencia de tiempo entre 2023-06-01 00:00:00 y 2024-01-13 03:49:41.651764: -227 days, 20:10:18.348236\n"
          ]
        }
      ],
      "source": [
        "from datetime import datetime, timedelta\n",
        "# Ejemplo 5: Diferencia de tiempo entre dos fechas\n",
        "ahora = datetime.now()\n",
        "otra_fecha = datetime(2023, 6, 1)\n",
        "diferencia = otra_fecha - ahora\n",
        "print(f\"Diferencia de tiempo entre {otra_fecha} y {ahora}: {diferencia}\")"
      ]
    },
    {
      "cell_type": "markdown",
      "metadata": {
        "id": "32ka6IHm_qIf"
      },
      "source": [
        "Reto final:\n",
        "El reto es crear un cronograma de pagos en base a los siguientes parametros: fecha de prestamo, monto de prestamo, numero de cuotas y la tasa de interes. El cronograma de pago sera guardado en una lista de diccionarios con los siguientes valores: fecha de pago, importe de pago, saldo restante.\n",
        "Adicionalmente se debe tomar en cuenta que la fecha de pago debe ser siempre el mismo dia de cada mes."
      ]
    },
    {
      "cell_type": "code",
      "execution_count": null,
      "metadata": {
        "id": "19DCxTLd91N4"
      },
      "outputs": [],
      "source": [
        "from datetime import datetime, timedelta\n",
        "\n",
        "# Paso 1: Solicitar Información al Usuario.\n",
        "fecha_otorgamiento_str = input(\"Ingresa la fecha de otorgamiento del préstamo (YYYY-MM-DD): \")\n",
        "monto_prestamo = float(input(\"Ingresa el monto del préstamo: \"))\n",
        "cuotas = int(input(\"Ingresa la cantidad de cuotas: \"))\n",
        "interes = float(input(\"Ingresa la tasa de interes: \"))\n",
        "\n",
        "# Convertir la cadena de fecha a objeto datetime.\n",
        "fecha_otorgamiento = datetime.strptime(fecha_otorgamiento_str, \"%Y-%m-%d\")\n",
        "\n"
      ]
    }
  ],
  "metadata": {
    "colab": {
      "provenance": []
    },
    "kernelspec": {
      "display_name": "Python 3",
      "name": "python3"
    },
    "language_info": {
      "codemirror_mode": {
        "name": "ipython",
        "version": 3
      },
      "file_extension": ".py",
      "mimetype": "text/x-python",
      "name": "python",
      "nbconvert_exporter": "python",
      "pygments_lexer": "ipython3",
      "version": "3.10.7"
    }
  },
  "nbformat": 4,
  "nbformat_minor": 0
}
